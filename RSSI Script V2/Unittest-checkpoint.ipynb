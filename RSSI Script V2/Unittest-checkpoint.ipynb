{
 "cells": [
  {
   "cell_type": "code",
   "execution_count": 1,
   "metadata": {},
   "outputs": [],
   "source": [
    "import os\n",
    "import pandas as pd\n",
    "import warnings\n",
    "warnings.filterwarnings('ignore')"
   ]
  },
  {
   "cell_type": "code",
   "execution_count": 2,
   "metadata": {},
   "outputs": [],
   "source": [
    "# Acessing the files from folders\n",
    "\n",
    "directory = os.path.join(os.getcwd(),'Readings') #Get current working directory\n",
    "\n",
    "#Creating an empty dictionary\n",
    "df_dict = {}\n",
    "\n",
    "# Iterating and reading in all files in each day folder\n",
    "\n",
    "for day in os.listdir(directory): #accessing all the day folders\n",
    "    data_ = pd.DataFrame(columns=['Id','RSS','Router_Mac','Router_Name','Router_Num','RSSI']) #Creating an empty dataframe\n",
    "    \n",
    "    for filename in os.listdir(os.path.join(directory, day)): #accessing each file in a day's folder\n",
    "        file = os.path.join(directory,day,filename)\n",
    "        \n",
    "        if os.path.isfile(file): #if file is present in the folder\n",
    "            df_ = pd.read_csv(file, sep=\"\\t\",names=['Id','RSS','Router_Mac','Router_Name','Router_Num','RSSI']) #reading file in\n",
    "            \n",
    "            #creating columns for day, time and location from folder and file names\n",
    "            df_['day'] = day\n",
    "            #df_['time'] = int(filename.split()[1][:2])\n",
    "            df_['location'] = filename.split()[0]\n",
    "            #adding new df to the data dataframe\n",
    "            data_ = pd.concat([data_, df_],axis=0, ignore_index=True, sort=False)\n",
    "            \n",
    "        df_dict[day] = data_\n",
    "            \n",
    "\n",
    "# Selecting Mac addresses that were recorded on both days\n",
    "set_Mac = set.intersection(set(df_dict[os.listdir(directory)[0]].Router_Mac),set(df_dict[os.listdir(directory)[1]].Router_Mac))\n",
    "\n",
    "# creating the final useable dataframe\n",
    "data = pd.concat([df_dict[os.listdir(directory)[0]],df_dict[os.listdir(directory)[1]]],axis=0, ignore_index=True, sort=False)\n",
    "\n",
    "#Picking Router_Mac and Router_Names of interest\n",
    "data = data.loc[(data.Router_Mac.isin(set_Mac)) & (data.Router_Name.isin(['eduroam','GuestOnCampus']))]\n",
    "            "
   ]
  },
  {
   "cell_type": "code",
   "execution_count": 3,
   "metadata": {},
   "outputs": [
    {
     "data": {
      "text/html": [
       "<div>\n",
       "<style scoped>\n",
       "    .dataframe tbody tr th:only-of-type {\n",
       "        vertical-align: middle;\n",
       "    }\n",
       "\n",
       "    .dataframe tbody tr th {\n",
       "        vertical-align: top;\n",
       "    }\n",
       "\n",
       "    .dataframe thead th {\n",
       "        text-align: right;\n",
       "    }\n",
       "</style>\n",
       "<table border=\"1\" class=\"dataframe\">\n",
       "  <thead>\n",
       "    <tr style=\"text-align: right;\">\n",
       "      <th></th>\n",
       "      <th>Id</th>\n",
       "      <th>RSS</th>\n",
       "      <th>Router_Mac</th>\n",
       "      <th>Router_Name</th>\n",
       "      <th>Router_Num</th>\n",
       "      <th>RSSI</th>\n",
       "      <th>day</th>\n",
       "      <th>location</th>\n",
       "    </tr>\n",
       "  </thead>\n",
       "  <tbody>\n",
       "    <tr>\n",
       "      <th>2</th>\n",
       "      <td>1662563198333</td>\n",
       "      <td>RSSWIFI</td>\n",
       "      <td>00:a2:ee:b6:96:f0</td>\n",
       "      <td>eduroam</td>\n",
       "      <td>2437</td>\n",
       "      <td>-80</td>\n",
       "      <td>7-9</td>\n",
       "      <td>Infront_of_class1</td>\n",
       "    </tr>\n",
       "    <tr>\n",
       "      <th>4</th>\n",
       "      <td>1662563198333</td>\n",
       "      <td>RSSWIFI</td>\n",
       "      <td>00:a2:ee:b6:96:f2</td>\n",
       "      <td>GuestOnCampus</td>\n",
       "      <td>2437</td>\n",
       "      <td>-82</td>\n",
       "      <td>7-9</td>\n",
       "      <td>Infront_of_class1</td>\n",
       "    </tr>\n",
       "    <tr>\n",
       "      <th>7</th>\n",
       "      <td>1662563198333</td>\n",
       "      <td>RSSWIFI</td>\n",
       "      <td>00:a2:ee:b7:d0:40</td>\n",
       "      <td>eduroam</td>\n",
       "      <td>2462</td>\n",
       "      <td>-77</td>\n",
       "      <td>7-9</td>\n",
       "      <td>Infront_of_class1</td>\n",
       "    </tr>\n",
       "    <tr>\n",
       "      <th>8</th>\n",
       "      <td>1662563198333</td>\n",
       "      <td>RSSWIFI</td>\n",
       "      <td>00:a2:ee:b7:d0:42</td>\n",
       "      <td>GuestOnCampus</td>\n",
       "      <td>2462</td>\n",
       "      <td>-78</td>\n",
       "      <td>7-9</td>\n",
       "      <td>Infront_of_class1</td>\n",
       "    </tr>\n",
       "    <tr>\n",
       "      <th>9</th>\n",
       "      <td>1662563198333</td>\n",
       "      <td>RSSWIFI</td>\n",
       "      <td>00:a2:ee:b7:0a:12</td>\n",
       "      <td>GuestOnCampus</td>\n",
       "      <td>2412</td>\n",
       "      <td>-49</td>\n",
       "      <td>7-9</td>\n",
       "      <td>Infront_of_class1</td>\n",
       "    </tr>\n",
       "  </tbody>\n",
       "</table>\n",
       "</div>"
      ],
      "text/plain": [
       "              Id      RSS         Router_Mac    Router_Name Router_Num RSSI  \\\n",
       "2  1662563198333  RSSWIFI  00:a2:ee:b6:96:f0        eduroam       2437  -80   \n",
       "4  1662563198333  RSSWIFI  00:a2:ee:b6:96:f2  GuestOnCampus       2437  -82   \n",
       "7  1662563198333  RSSWIFI  00:a2:ee:b7:d0:40        eduroam       2462  -77   \n",
       "8  1662563198333  RSSWIFI  00:a2:ee:b7:d0:42  GuestOnCampus       2462  -78   \n",
       "9  1662563198333  RSSWIFI  00:a2:ee:b7:0a:12  GuestOnCampus       2412  -49   \n",
       "\n",
       "   day           location  \n",
       "2  7-9  Infront_of_class1  \n",
       "4  7-9  Infront_of_class1  \n",
       "7  7-9  Infront_of_class1  \n",
       "8  7-9  Infront_of_class1  \n",
       "9  7-9  Infront_of_class1  "
      ]
     },
     "execution_count": 3,
     "metadata": {},
     "output_type": "execute_result"
    }
   ],
   "source": [
    "data.head()"
   ]
  },
  {
   "cell_type": "code",
   "execution_count": 4,
   "metadata": {},
   "outputs": [
    {
     "data": {
      "text/html": [
       "<div>\n",
       "<style scoped>\n",
       "    .dataframe tbody tr th:only-of-type {\n",
       "        vertical-align: middle;\n",
       "    }\n",
       "\n",
       "    .dataframe tbody tr th {\n",
       "        vertical-align: top;\n",
       "    }\n",
       "\n",
       "    .dataframe thead th {\n",
       "        text-align: right;\n",
       "    }\n",
       "</style>\n",
       "<table border=\"1\" class=\"dataframe\">\n",
       "  <thead>\n",
       "    <tr style=\"text-align: right;\">\n",
       "      <th></th>\n",
       "      <th>Id</th>\n",
       "      <th>RSS</th>\n",
       "      <th>Router_Mac</th>\n",
       "      <th>Router_Name</th>\n",
       "      <th>Router_Num</th>\n",
       "      <th>RSSI</th>\n",
       "      <th>day</th>\n",
       "      <th>location</th>\n",
       "    </tr>\n",
       "  </thead>\n",
       "  <tbody>\n",
       "    <tr>\n",
       "      <th>632291</th>\n",
       "      <td>1662651420697</td>\n",
       "      <td>RSSWIFI</td>\n",
       "      <td>00:a2:ee:b6:4a:f2</td>\n",
       "      <td>GuestOnCampus</td>\n",
       "      <td>2462</td>\n",
       "      <td>-76</td>\n",
       "      <td>8-9</td>\n",
       "      <td>Staircase_class2</td>\n",
       "    </tr>\n",
       "    <tr>\n",
       "      <th>632292</th>\n",
       "      <td>1662651420697</td>\n",
       "      <td>RSSWIFI</td>\n",
       "      <td>00:a2:ee:b6:a0:00</td>\n",
       "      <td>eduroam</td>\n",
       "      <td>2462</td>\n",
       "      <td>-84</td>\n",
       "      <td>8-9</td>\n",
       "      <td>Staircase_class2</td>\n",
       "    </tr>\n",
       "    <tr>\n",
       "      <th>632294</th>\n",
       "      <td>1662651420697</td>\n",
       "      <td>RSSWIFI</td>\n",
       "      <td>00:a2:ee:b6:a0:02</td>\n",
       "      <td>GuestOnCampus</td>\n",
       "      <td>2462</td>\n",
       "      <td>-84</td>\n",
       "      <td>8-9</td>\n",
       "      <td>Staircase_class2</td>\n",
       "    </tr>\n",
       "    <tr>\n",
       "      <th>632296</th>\n",
       "      <td>1662651420697</td>\n",
       "      <td>RSSWIFI</td>\n",
       "      <td>00:a2:ee:b7:0a:10</td>\n",
       "      <td>eduroam</td>\n",
       "      <td>2412</td>\n",
       "      <td>-81</td>\n",
       "      <td>8-9</td>\n",
       "      <td>Staircase_class2</td>\n",
       "    </tr>\n",
       "    <tr>\n",
       "      <th>632297</th>\n",
       "      <td>1662651420697</td>\n",
       "      <td>RSSWIFI</td>\n",
       "      <td>00:a2:ee:b7:0a:12</td>\n",
       "      <td>GuestOnCampus</td>\n",
       "      <td>2412</td>\n",
       "      <td>-81</td>\n",
       "      <td>8-9</td>\n",
       "      <td>Staircase_class2</td>\n",
       "    </tr>\n",
       "  </tbody>\n",
       "</table>\n",
       "</div>"
      ],
      "text/plain": [
       "                   Id      RSS         Router_Mac    Router_Name Router_Num  \\\n",
       "632291  1662651420697  RSSWIFI  00:a2:ee:b6:4a:f2  GuestOnCampus       2462   \n",
       "632292  1662651420697  RSSWIFI  00:a2:ee:b6:a0:00        eduroam       2462   \n",
       "632294  1662651420697  RSSWIFI  00:a2:ee:b6:a0:02  GuestOnCampus       2462   \n",
       "632296  1662651420697  RSSWIFI  00:a2:ee:b7:0a:10        eduroam       2412   \n",
       "632297  1662651420697  RSSWIFI  00:a2:ee:b7:0a:12  GuestOnCampus       2412   \n",
       "\n",
       "       RSSI  day          location  \n",
       "632291  -76  8-9  Staircase_class2  \n",
       "632292  -84  8-9  Staircase_class2  \n",
       "632294  -84  8-9  Staircase_class2  \n",
       "632296  -81  8-9  Staircase_class2  \n",
       "632297  -81  8-9  Staircase_class2  "
      ]
     },
     "execution_count": 4,
     "metadata": {},
     "output_type": "execute_result"
    }
   ],
   "source": [
    "data.tail()"
   ]
  },
  {
   "cell_type": "markdown",
   "metadata": {},
   "source": [
    "# Acessing the data to correct possible wrangling"
   ]
  },
  {
   "cell_type": "code",
   "execution_count": 5,
   "metadata": {},
   "outputs": [
    {
     "data": {
      "text/plain": [
       "(377596, 8)"
      ]
     },
     "execution_count": 5,
     "metadata": {},
     "output_type": "execute_result"
    }
   ],
   "source": [
    "data.shape"
   ]
  },
  {
   "cell_type": "code",
   "execution_count": 6,
   "metadata": {},
   "outputs": [
    {
     "name": "stdout",
     "output_type": "stream",
     "text": [
      "<class 'pandas.core.frame.DataFrame'>\n",
      "Int64Index: 377596 entries, 2 to 632297\n",
      "Data columns (total 8 columns):\n",
      " #   Column       Non-Null Count   Dtype \n",
      "---  ------       --------------   ----- \n",
      " 0   Id           377596 non-null  object\n",
      " 1   RSS          377596 non-null  object\n",
      " 2   Router_Mac   377596 non-null  object\n",
      " 3   Router_Name  377596 non-null  object\n",
      " 4   Router_Num   377596 non-null  object\n",
      " 5   RSSI         377596 non-null  object\n",
      " 6   day          377596 non-null  object\n",
      " 7   location     377596 non-null  object\n",
      "dtypes: object(8)\n",
      "memory usage: 25.9+ MB\n"
     ]
    }
   ],
   "source": [
    "data.info()"
   ]
  },
  {
   "cell_type": "code",
   "execution_count": 7,
   "metadata": {},
   "outputs": [],
   "source": [
    "data.RSSI = data.RSSI.astype(int) #Changing the datatype for RSSI"
   ]
  },
  {
   "cell_type": "code",
   "execution_count": 8,
   "metadata": {},
   "outputs": [
    {
     "name": "stdout",
     "output_type": "stream",
     "text": [
      "<class 'pandas.core.frame.DataFrame'>\n",
      "Int64Index: 377596 entries, 2 to 632297\n",
      "Data columns (total 8 columns):\n",
      " #   Column       Non-Null Count   Dtype \n",
      "---  ------       --------------   ----- \n",
      " 0   Id           377596 non-null  object\n",
      " 1   RSS          377596 non-null  object\n",
      " 2   Router_Mac   377596 non-null  object\n",
      " 3   Router_Name  377596 non-null  object\n",
      " 4   Router_Num   377596 non-null  object\n",
      " 5   RSSI         377596 non-null  int32 \n",
      " 6   day          377596 non-null  object\n",
      " 7   location     377596 non-null  object\n",
      "dtypes: int32(1), object(7)\n",
      "memory usage: 24.5+ MB\n"
     ]
    }
   ],
   "source": [
    "data.info()"
   ]
  },
  {
   "cell_type": "code",
   "execution_count": 13,
   "metadata": {},
   "outputs": [],
   "source": [
    "#Grouping and taking averages\n",
    "avg_data = data.groupby(['Router_Mac','location'])['RSSI'].mean().reset_index() "
   ]
  },
  {
   "cell_type": "code",
   "execution_count": 14,
   "metadata": {},
   "outputs": [
    {
     "data": {
      "text/html": [
       "<div>\n",
       "<style scoped>\n",
       "    .dataframe tbody tr th:only-of-type {\n",
       "        vertical-align: middle;\n",
       "    }\n",
       "\n",
       "    .dataframe tbody tr th {\n",
       "        vertical-align: top;\n",
       "    }\n",
       "\n",
       "    .dataframe thead th {\n",
       "        text-align: right;\n",
       "    }\n",
       "</style>\n",
       "<table border=\"1\" class=\"dataframe\">\n",
       "  <thead>\n",
       "    <tr style=\"text-align: right;\">\n",
       "      <th></th>\n",
       "      <th>Router_Mac</th>\n",
       "      <th>location</th>\n",
       "      <th>RSSI</th>\n",
       "    </tr>\n",
       "  </thead>\n",
       "  <tbody>\n",
       "    <tr>\n",
       "      <th>0</th>\n",
       "      <td>00:a2:ee:b4:ff:10</td>\n",
       "      <td>Inside_class-1</td>\n",
       "      <td>-51.86</td>\n",
       "    </tr>\n",
       "    <tr>\n",
       "      <th>1</th>\n",
       "      <td>00:a2:ee:b4:ff:10</td>\n",
       "      <td>Staircase_class-1</td>\n",
       "      <td>-67.93</td>\n",
       "    </tr>\n",
       "    <tr>\n",
       "      <th>2</th>\n",
       "      <td>00:a2:ee:b4:ff:12</td>\n",
       "      <td>Inside_class-1</td>\n",
       "      <td>-51.88</td>\n",
       "    </tr>\n",
       "    <tr>\n",
       "      <th>3</th>\n",
       "      <td>00:a2:ee:b4:ff:12</td>\n",
       "      <td>Staircase_class-1</td>\n",
       "      <td>-67.91</td>\n",
       "    </tr>\n",
       "    <tr>\n",
       "      <th>4</th>\n",
       "      <td>00:a2:ee:b6:4a:f0</td>\n",
       "      <td>Inside_class2</td>\n",
       "      <td>-68.74</td>\n",
       "    </tr>\n",
       "    <tr>\n",
       "      <th>...</th>\n",
       "      <td>...</td>\n",
       "      <td>...</td>\n",
       "      <td>...</td>\n",
       "    </tr>\n",
       "    <tr>\n",
       "      <th>65</th>\n",
       "      <td>00:a2:ee:b7:d0:42</td>\n",
       "      <td>Staircase_of_class1</td>\n",
       "      <td>-83.50</td>\n",
       "    </tr>\n",
       "    <tr>\n",
       "      <th>66</th>\n",
       "      <td>00:a2:ee:b7:d2:80</td>\n",
       "      <td>Staircase_class-1</td>\n",
       "      <td>-87.03</td>\n",
       "    </tr>\n",
       "    <tr>\n",
       "      <th>67</th>\n",
       "      <td>00:a2:ee:b7:d2:82</td>\n",
       "      <td>Staircase_class-1</td>\n",
       "      <td>-87.39</td>\n",
       "    </tr>\n",
       "    <tr>\n",
       "      <th>68</th>\n",
       "      <td>00:a2:ee:e1:f5:60</td>\n",
       "      <td>Staircase_class-1</td>\n",
       "      <td>-84.22</td>\n",
       "    </tr>\n",
       "    <tr>\n",
       "      <th>69</th>\n",
       "      <td>00:a2:ee:e1:f5:62</td>\n",
       "      <td>Staircase_class-1</td>\n",
       "      <td>-84.45</td>\n",
       "    </tr>\n",
       "  </tbody>\n",
       "</table>\n",
       "<p>70 rows × 3 columns</p>\n",
       "</div>"
      ],
      "text/plain": [
       "           Router_Mac             location   RSSI\n",
       "0   00:a2:ee:b4:ff:10       Inside_class-1 -51.86\n",
       "1   00:a2:ee:b4:ff:10    Staircase_class-1 -67.93\n",
       "2   00:a2:ee:b4:ff:12       Inside_class-1 -51.88\n",
       "3   00:a2:ee:b4:ff:12    Staircase_class-1 -67.91\n",
       "4   00:a2:ee:b6:4a:f0        Inside_class2 -68.74\n",
       "..                ...                  ...    ...\n",
       "65  00:a2:ee:b7:d0:42  Staircase_of_class1 -83.50\n",
       "66  00:a2:ee:b7:d2:80    Staircase_class-1 -87.03\n",
       "67  00:a2:ee:b7:d2:82    Staircase_class-1 -87.39\n",
       "68  00:a2:ee:e1:f5:60    Staircase_class-1 -84.22\n",
       "69  00:a2:ee:e1:f5:62    Staircase_class-1 -84.45\n",
       "\n",
       "[70 rows x 3 columns]"
      ]
     },
     "execution_count": 14,
     "metadata": {},
     "output_type": "execute_result"
    }
   ],
   "source": [
    "avg_data['RSSI'] = round(avg_data.RSSI,2) #rounding the RSSI value to 2dp\n",
    "avg_data"
   ]
  },
  {
   "cell_type": "code",
   "execution_count": 15,
   "metadata": {},
   "outputs": [
    {
     "data": {
      "text/html": [
       "<div>\n",
       "<style scoped>\n",
       "    .dataframe tbody tr th:only-of-type {\n",
       "        vertical-align: middle;\n",
       "    }\n",
       "\n",
       "    .dataframe tbody tr th {\n",
       "        vertical-align: top;\n",
       "    }\n",
       "\n",
       "    .dataframe thead th {\n",
       "        text-align: right;\n",
       "    }\n",
       "</style>\n",
       "<table border=\"1\" class=\"dataframe\">\n",
       "  <thead>\n",
       "    <tr style=\"text-align: right;\">\n",
       "      <th></th>\n",
       "      <th>Router_Mac</th>\n",
       "      <th>location</th>\n",
       "      <th>RSSI</th>\n",
       "    </tr>\n",
       "  </thead>\n",
       "  <tbody>\n",
       "    <tr>\n",
       "      <th>0</th>\n",
       "      <td>00:a2:ee:b4:ff:10</td>\n",
       "      <td>Inside_class-1</td>\n",
       "      <td>-51.86</td>\n",
       "    </tr>\n",
       "    <tr>\n",
       "      <th>1</th>\n",
       "      <td>00:a2:ee:b4:ff:10</td>\n",
       "      <td>Staircase_class-1</td>\n",
       "      <td>-67.93</td>\n",
       "    </tr>\n",
       "  </tbody>\n",
       "</table>\n",
       "</div>"
      ],
      "text/plain": [
       "          Router_Mac           location   RSSI\n",
       "0  00:a2:ee:b4:ff:10     Inside_class-1 -51.86\n",
       "1  00:a2:ee:b4:ff:10  Staircase_class-1 -67.93"
      ]
     },
     "execution_count": 15,
     "metadata": {},
     "output_type": "execute_result"
    }
   ],
   "source": [
    "avg_data[avg_data.Router_Mac=='00:a2:ee:b4:ff:10']"
   ]
  },
  {
   "cell_type": "code",
   "execution_count": 16,
   "metadata": {},
   "outputs": [
    {
     "data": {
      "text/plain": [
       "Staircase_class-1      10\n",
       "Infront_of_class1       8\n",
       "Staircase_of_class1     8\n",
       "Infront_class1          8\n",
       "In_front_of_class1      8\n",
       "Staircase_class1        6\n",
       "Inside_class2           6\n",
       "Staircase_class2        6\n",
       "Staircase_of_class2     6\n",
       "Inside_class-1          4\n",
       "Name: location, dtype: int64"
      ]
     },
     "execution_count": 16,
     "metadata": {},
     "output_type": "execute_result"
    }
   ],
   "source": [
    "avg_data['location'].value_counts()"
   ]
  },
  {
   "cell_type": "code",
   "execution_count": 17,
   "metadata": {},
   "outputs": [
    {
     "data": {
      "text/plain": [
       "00:a2:ee:b7:0a:12    8\n",
       "00:a2:ee:b6:a0:00    8\n",
       "00:a2:ee:b7:0a:10    8\n",
       "00:a2:ee:b6:a0:02    8\n",
       "00:a2:ee:b6:96:f0    6\n",
       "00:a2:ee:b6:96:f2    6\n",
       "00:a2:ee:b7:d0:42    5\n",
       "00:a2:ee:b7:d0:40    5\n",
       "00:a2:ee:b6:4a:f0    3\n",
       "00:a2:ee:b6:4a:f2    3\n",
       "00:a2:ee:b4:ff:10    2\n",
       "00:a2:ee:b4:ff:12    2\n",
       "00:a2:ee:b6:58:80    1\n",
       "00:a2:ee:e1:f5:60    1\n",
       "00:a2:ee:e1:f5:62    1\n",
       "00:a2:ee:b7:d2:82    1\n",
       "00:a2:ee:b7:d2:80    1\n",
       "00:a2:ee:b6:58:82    1\n",
       "Name: Router_Mac, dtype: int64"
      ]
     },
     "execution_count": 17,
     "metadata": {},
     "output_type": "execute_result"
    }
   ],
   "source": [
    "avg_data['Router_Mac'].value_counts()"
   ]
  },
  {
   "cell_type": "code",
   "execution_count": null,
   "metadata": {},
   "outputs": [],
   "source": []
  }
 ],
 "metadata": {
  "kernelspec": {
   "display_name": "Python 3",
   "language": "python",
   "name": "python3"
  },
  "language_info": {
   "codemirror_mode": {
    "name": "ipython",
    "version": 3
   },
   "file_extension": ".py",
   "mimetype": "text/x-python",
   "name": "python",
   "nbconvert_exporter": "python",
   "pygments_lexer": "ipython3",
   "version": "3.8.5"
  }
 },
 "nbformat": 4,
 "nbformat_minor": 4
}
